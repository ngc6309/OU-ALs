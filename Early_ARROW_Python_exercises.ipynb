{
 "cells": [
  {
   "cell_type": "markdown",
   "metadata": {},
   "source": [
    "# Early ARROW Python exercises\n",
    "\n",
    "These are some simple, basic answers to some early ARROW Python exercises.\n",
    "\n",
    "It is important to remeber they are basic solutions and no attempt has been made to check for things like input errors. What happens if you input 'twenty one' (instead of 21) when prompted for a floating point number? You might like to think how you could modify them to make them more robust.\n",
    "\n",
    "Also, as with most programming tasks, there will always be other ways of achieving the same result. So, there is most probably no 'right' answer - only ones that give the right result! \n"
   ]
  },
  {
   "cell_type": "markdown",
   "metadata": {},
   "source": [
    "##  Section 3.2, Activity 3.1 - Wavelength-frequency conversion using Python\n",
    "\n",
    "1. Write a short Python program to ask the user to input a wavelength in cm and output the frequency. Define any pyhsical constants as variables.\n",
    "\n",
    "2. Display the output using scientific notation to 4 decimal places\n",
    "\n",
    "3. Extend this so that it allows the user to repeat the conversions until no longer required. Note how we have chosen to 'break out' of the loop. How else could you do this?\n"
   ]
  },
  {
   "cell_type": "code",
   "execution_count": 1,
   "metadata": {},
   "outputs": [
    {
     "name": "stdout",
     "output_type": "stream",
     "text": [
      "Enter a wavelength in cm 2\n",
      "Frequency is:  14989500000.0 Hz\n"
     ]
    }
   ],
   "source": [
    "C = 2.9979e8 #m/s\n",
    "wavelength = float(input('Enter a wavelength in cm '))\n",
    "wavelength_m = wavelength/100 #wavelength in m\n",
    "print('Frequency is: ', C/wavelength_m, 'Hz')"
   ]
  },
  {
   "cell_type": "raw",
   "metadata": {},
   "source": [
    "\n",
    "Print out the answer using scientific notation and to 4 decimal places. (Here we use 'f' strings you might use 'format' statements.\n"
   ]
  },
  {
   "cell_type": "code",
   "execution_count": 2,
   "metadata": {},
   "outputs": [
    {
     "name": "stdout",
     "output_type": "stream",
     "text": [
      "Enter a wavelength in cm 21.106\n",
      "Frequency is: 1.4204e+09 Hz\n"
     ]
    }
   ],
   "source": [
    "C = 2.9979e8 #m/s\n",
    "wavelength = float(input('Enter a wavelength in cm '))\n",
    "wavelength_m = wavelength/100 #wavelength in m\n",
    "freq = C/wavelength_m\n",
    "print(f'Frequency is: {freq:.4e} Hz')"
   ]
  },
  {
   "cell_type": "markdown",
   "metadata": {},
   "source": [
    "\n",
    "Now, place this in a loop so that the user can repeat the conversion until they enter a negative \n",
    "number\n"
   ]
  },
  {
   "cell_type": "code",
   "execution_count": null,
   "metadata": {},
   "outputs": [],
   "source": [
    "C = 2.9979e8 #m/s\n",
    "wavelength=-1 # Reset to avoid conflicting with previous Cells\n",
    "wavelength = float(input('Enter a wavelength in cm '))\n",
    "count=0\n",
    "while wavelength >= 0:\n",
    "    count +=1\n",
    "    wavelength_m = wavelength/100 #wavelength in m\n",
    "    freq = C/wavelength_m\n",
    "    print(f'Frequency is: {freq:.4e} Hz')\n",
    "    wavelength = float(input('Enter a wavelength in cm (enter a negative number to exit) '))\n",
    "print(f'Thanks. You asked for {count} conversions.')"
   ]
  },
  {
   "cell_type": "markdown",
   "metadata": {},
   "source": [
    "## Section 3.3, Activity 3.2 - The Doppler shift using Python \n",
    "\n",
    "1. Write a function that takes a frequency shift (or numpy Array or Pandas Series of frequencies) and a rest frequency and returns these converted to radial velocity, using the Doppler effect.\n",
    "\n",
    "2. Optionally, using information from the 'UsingAstropy' notebook, use constant values defined withn the astropy.constants module. Also, try and use the astropy.units to return the result in km/s\n",
    "\n",
    "3. Write a short program to test this.\n"
   ]
  },
  {
   "cell_type": "code",
   "execution_count": null,
   "metadata": {},
   "outputs": [],
   "source": [
    "import numpy as np\n",
    "\n",
    "def freq_to_vel(freq, f0=1420.4e6):\n",
    "    ''' Takes a frequency shift value (or Pandas dataframe Series or Numpy array) and returns\n",
    "    a velocity value (or new dataframe column of values). f0 is the rest\n",
    "    frequency and defaults to 1420.4 MHz'''\n",
    "    \n",
    "    from astropy import constants as const\n",
    "    from astropy import units as u\n",
    "  \n",
    "    # We need a value for 'c' - speed of light. Either just do it here or, neatly, use the \n",
    "    # astropy 'constants'\n",
    "    \n",
    "    # c = 299792458.0  #m/s\n",
    "    c = const.c\n",
    "    v = -c*(freq)/(freq+f0)\n",
    "    return v.to(u.km/u.s)  #(km/s)\n",
    "\n",
    "freqs = np.array([-800000, -400000, 0, 200000, 600000])\n",
    "vels = freq_to_vel(freqs)\n",
    "print(\"Radial velocities are:\")\n",
    "for fs in vels:\n",
    "    print( f\"{fs:.1f}\")"
   ]
  },
  {
   "cell_type": "markdown",
   "metadata": {},
   "source": [
    "## Section 3.4, Activity 3.3 - Beam width using Python \n",
    "\n",
    "1. Write a short Python program to ask for the diameter of a radio telescope dish in metres and the observed wavelength in cm. \n",
    "\n",
    "2. Print out the beam width in radians and also in degrees.\n"
   ]
  },
  {
   "cell_type": "code",
   "execution_count": 3,
   "metadata": {},
   "outputs": [
    {
     "name": "stdout",
     "output_type": "stream",
     "text": [
      "Enter dish diameter in m 3.0\n",
      "Enter observed wavelength in cm 21\n",
      "Beamwidth is 0.0854 radians, which is, 4.9 degrees\n"
     ]
    }
   ],
   "source": [
    "d = float(input('Enter dish diameter in m '))\n",
    "wvl = float(input('Enter observed wavelength in cm '))\n",
    "bw = (1.22*wvl/100)/d\n",
    "print(f'Beamwidth is {bw:.4} radians, which is, {bw*180/3.14159:.2} degrees')"
   ]
  },
  {
   "cell_type": "markdown",
   "metadata": {},
   "source": [
    "\n",
    "For information, there are functions in the **math** and **numPy** packages that will do the radian-degree conversions. It's always worth looking for these convenience functions as they are easy to use and fully tested.\n"
   ]
  },
  {
   "cell_type": "code",
   "execution_count": null,
   "metadata": {},
   "outputs": [],
   "source": [
    "import numpy as np\n",
    "import math as mt\n",
    "\n",
    "d = float(input('Enter dish diameter in m '))\n",
    "wvl = float(input('Enter observed wavelength in cm '))\n",
    "bw = (1.22*wvl/100)/d\n",
    "\n",
    "print(f'Beamwidth (math conversion) is {bw:.4} radians, which is, {mt.degrees(bw):.2} degrees')\n",
    "print(f'Beamwidth (numPy conversion) is {bw:.4} radians, which is, {np.degrees(bw):.2} degrees')"
   ]
  },
  {
   "cell_type": "code",
   "execution_count": null,
   "metadata": {},
   "outputs": [],
   "source": []
  }
 ],
 "metadata": {
  "kernelspec": {
   "display_name": "Python 3",
   "language": "python",
   "name": "python3"
  },
  "language_info": {
   "codemirror_mode": {
    "name": "ipython",
    "version": 3
   },
   "file_extension": ".py",
   "mimetype": "text/x-python",
   "name": "python",
   "nbconvert_exporter": "python",
   "pygments_lexer": "ipython3",
   "version": "3.7.3"
  }
 },
 "nbformat": 4,
 "nbformat_minor": 2
}
