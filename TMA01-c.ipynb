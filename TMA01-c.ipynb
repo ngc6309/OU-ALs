{
 "cells": [
  {
   "cell_type": "markdown",
   "metadata": {},
   "source": [
    "## TMA Question - Fitting a black body radiation curve to COBE data\n",
    "\n",
    "COBE has been collecting data from the cosmic background. Cosmic backgroud radiation data is one of the key pieces of evidence supporting the Big Bng theory - which predicts it should follow a black body curve.\n",
    "\n",
    "In fact, the background radiation can be very well modeled using the Black Body radiation equation with a temperature of around 2.7 Kelvin.\n",
    "\n",
    "1. Write a Python function, taking a temperature and an list of wavelengths as parameters, that returns a BB intensity curve over the wavelength range.\n",
    "\n",
    "2. Read in the supplied COBE data and, using the  scipy.optimixe.curve_fit() function along with your BB function, produce an optimised BB curve fitted to the COBE data.\n",
    "\n",
    "3. Plot both the COBE data (as discrete data points) and the optimise curve (as aline/curve).\n",
    "\n",
    "\n",
    "The intensity of the BB radiation for a given $T$ is given by:\n",
    "\n",
    "$$ {B(\\lambda, T)} ={2hc^2 \\over \\lambda^5} {1\\over{e^{hc \\over \\lambda kT} -1}} $$\n",
    "\n",
    "All other symbols are as you might expect. $c=2.988 \\times 10^8 ms^{-1}$, $h=6.626 \\times 10^{-34} Js$ and $k=1.381 \\times 10^{-23} JK^{-1}$\n",
    "\n",
    "The measured data are:\n",
    "\n",
    "Wavelength ($mm$)  \n",
    "4.405286344, 3.676470588, 3.144654088, 2.754820937, 2.450980392, 2.004008016,  \n",
    "1.834862385, 1.377410468, 0.881834215, 0.468823254\n",
    "\n",
    "Intensity ($W m^{-1} m^{-1} sr^{-1}$)  \n",
    "3.10085E-05, 5.53419E-05, 8.8836E-05, 0.000129483, 0.000176707, 0.000284786,  \n",
    "0.00034148, 0.000531378, 0.000561909, 6.16936E-05\n",
    "\n"
   ]
  },
  {
   "cell_type": "code",
   "execution_count": null,
   "metadata": {},
   "outputs": [],
   "source": [
    "%matplotlib inline\n",
    "import numpy as np\n",
    "import matplotlib.pyplot as plt\n",
    "\n",
    "def BB_rad(wvl, t):\n",
    "    '''Function to compute the intensity of black body radiation. Takes a wavelength \n",
    "    (or numpy array of wavelength) and a temperature (in Kelvin).\n",
    "    Returns the intensity (or array of intensities) corresponding to the wavelegth(s)'''\n",
    "    \n",
    "    # Define constants needed:\n",
    "    H = 6.626e-34\n",
    "    C = 2.998e+8\n",
    "    K= 1.381e-23\n",
    "    \n",
    "    b_value=(2*H*C*C)/(wvl**5)*(1/(np.exp(H*C/(wvl*K*t))-1))\n",
    "    return b_value\n",
    "\n",
    "cobe_lambda = np.array([4.405286344, 3.676470588, 3.144654088, 2.754820937, 2.450980392, 2.004008016, \\\n",
    "1.834862385, 1.377410468, 0.881834215, 0.468823254])\n",
    "cobe_intensity = np.array([3.10085E-05, 5.53419E-05, 8.8836E-05, 0.000129483, 0.000176707, 0.000284786, \\\n",
    "0.00034148, 0.000531378, 0.000561909, 6.16936E-05])\n",
    "\n",
    "\n",
    "est_temp = 2.7\n",
    "wavelength = np.linspace(0.1,5,50,endpoint=True)\n",
    "wavelength_m = wavelength/1000\n",
    "plt.plot(cobe_lambda, cobe_intensity, linestyle='None', marker='o', color='red', label='COBE')\n",
    "plt.plot(wavelength, BB_rad(wavelength/1000, est_temp), color = 'g', linestyle='--', label='BB model')\n",
    "plt.title('Black Body fit to COBE data')\n",
    "plt.xlabel('Wavelength ($mm$)')\n",
    "plt.ylabel('Intensity ($W m^{-1} m^{-1} sr^{-1}$)')\n",
    "plt.legend()\n",
    "plt.show()"
   ]
  },
  {
   "cell_type": "code",
   "execution_count": null,
   "metadata": {},
   "outputs": [],
   "source": []
  },
  {
   "cell_type": "code",
   "execution_count": null,
   "metadata": {},
   "outputs": [],
   "source": []
  }
 ],
 "metadata": {
  "kernelspec": {
   "display_name": "Python 3",
   "language": "python",
   "name": "python3"
  },
  "language_info": {
   "codemirror_mode": {
    "name": "ipython",
    "version": 3
   },
   "file_extension": ".py",
   "mimetype": "text/x-python",
   "name": "python",
   "nbconvert_exporter": "python",
   "pygments_lexer": "ipython3",
   "version": "3.7.3"
  }
 },
 "nbformat": 4,
 "nbformat_minor": 2
}
