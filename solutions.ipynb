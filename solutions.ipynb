{
 "cells": [
  {
   "cell_type": "markdown",
   "metadata": {},
   "source": [
    "# Simple specimen solutions to Activities\n",
    "\n",
    "This notebook provides a set of possible, simple solutions to SXPS288 Python Activities.\n",
    "\n",
    "These are not the most sophisticated solutions possible (there is pretty much no error checking) nor are they the only ones possible. They just provide a guide and are here to assist in supporting students who may have trouble in completing them.\n",
    "\n",
    "They should not be provided 'as is' to students, although it may be suitable to give out the odd snippet."
   ]
  },
  {
   "cell_type": "markdown",
   "metadata": {},
   "source": [
    "# ARROW - Week 1- 7"
   ]
  },
  {
   "cell_type": "markdown",
   "metadata": {},
   "source": [
    "\n",
    "## Activities 1.3, 1.4 and 2.2\n",
    "\n",
    "Solutions are provided in the notebook **\"Early ARROW Python exercises\"**"
   ]
  },
  {
   "cell_type": "markdown",
   "metadata": {},
   "source": [
    "## Activity 2.4 - Target selection\n",
    "\n",
    "This is an optional, alternative activity, and most of the code is already available in the 'astropy' notebook."
   ]
  },
  {
   "cell_type": "code",
   "execution_count": 6,
   "metadata": {},
   "outputs": [
    {
     "name": "stdout",
     "output_type": "stream",
     "text": [
      "These are the computed Alt/Az values (all in degrees)\n",
      "A '+' in the 'OK' column indicates a target is visible \n",
      "\n",
      "\t l      Alt     Az   OK?\n",
      "\t=========================\n",
      "\t  20   -39.1    51.3   -\n",
      "\t  30   -33.2    41.3   -\n",
      "\t  40   -26.6    32.6   -\n",
      "\t  50   -19.6    24.9   -\n",
      "\t  60   -12.2    17.8   -\n",
      "\t  70    -4.7    11.2   -\n",
      "\t  80     2.9     4.7   -\n",
      "\t  90    10.5   358.1   -\n",
      "\t 100    17.9   351.1   -\n",
      "\t 110    25.0   343.6   -\n",
      "\t 120    31.8   335.2   +\n",
      "\t 130    37.8   325.5   +\n",
      "\t 140    43.0   314.2   +\n",
      "\t 150    46.9   301.2   +\n",
      "\t 160    49.1   286.6   +\n",
      "\t 170    49.3   271.3   +\n",
      "\t 180    47.5   256.4   +\n",
      "\t 190    44.0   243.0   +\n",
      "\t 200    39.1   231.3   +\n",
      "\t 210    33.2   221.3   +\n",
      "\t 220    26.6   212.6   +\n",
      "\t 230    19.6   204.9   -\n",
      "\t 240    12.2   197.8   -\n"
     ]
    }
   ],
   "source": [
    "from astropy.coordinates import SkyCoord, EarthLocation, AltAz\n",
    "from astropy.time import Time\n",
    "from astropy import units as u\n",
    "\n",
    "#obs_date = input('Enter observing date in format yyyy-mm-dd ')\n",
    "#obs_time = input('Enter observing start time (UTC) in format hh:mm:ss ')\n",
    "\n",
    "# Here, you check for a correct format using regex to isolate yyyy, mm, dd, hh, mm, ss\n",
    "\n",
    "# For debuging purposes put in some fixed values\n",
    "obs_date = '2019-12-15'\n",
    "obs_time = '03:30:00'\n",
    "\n",
    "#ARROW location:\n",
    "ARROW = EarthLocation(lat=52.024444*u.deg, \\\n",
    "                   lon=-0.706388*u.deg, \\\n",
    "                   height=114*u.m)\n",
    "# Set up date/time in correct format\n",
    "obs_str=obs_date+'T'+obs_time\n",
    "obs = Time(obs_str, format='isot', scale='utc')\n",
    "\n",
    "# Print output 'table' intro and headings\n",
    "# NOTE '\\t' is a TAB character, '\\n' is a NEWLINE character\n",
    "print('These are the computed Alt/Az values (all in degrees)')\n",
    "print('A \\'+\\' in the \\'OK\\' column indicates a target is visible \\n')\n",
    "print ('\\t l      Alt     Az   OK?')\n",
    "print ('\\t=========================')\n",
    "\n",
    "# We're on the Galactic plane so ...\n",
    "b=0\n",
    "\n",
    "# Loop through a selection of Galactic longitudes\n",
    "for l in range(20, 250, 10):\n",
    "    # Get coordiantes\n",
    "    target = SkyCoord(l=l*u.deg, b=b*u.deg, frame='galactic')\n",
    "    # Do conversions\n",
    "    ARROW_frame=AltAz(obstime=obs, location=ARROW)\n",
    "    ARROW_altaz=target.transform_to(ARROW_frame)\n",
    "    \n",
    "    ARROW_alt = ARROW_altaz.alt.deg\n",
    "    ARROW_az = ARROW_altaz.az.deg\n",
    "    # Could do some checking\n",
    "    ok=''\n",
    "    if ARROW_alt>20 and ARROW_alt<80 and ARROW_az>20 and ARROW_az<340:\n",
    "        ok='+'\n",
    "    else:\n",
    "        ok='-'\n",
    "    # Print out each target line using 'f string' formating\n",
    "    print(f'\\t {l:3d}   {ARROW_alt:5.1f}   {ARROW_az:5.1f}   {ok}')"
   ]
  },
  {
   "cell_type": "markdown",
   "metadata": {},
   "source": [
    "## Activity 4.1 Displaying your data\n",
    "\n",
    "Just allows the student to display and inspect an ARROW spectrum. \n",
    "\n",
    "You could do this with Matplotlib, but using Bokeh allows a little more information to be displayed. If now, or later (specifically Activity 5.2) it is useful to put the display code within a loop in a notebook, Bokeh is much easier to use. This is all covered in the Bokeh notebook.\n",
    "\n",
    "You could read the data into numPy arrays but pandas is just as easy and later will prove to be more useful.\n",
    "\n",
    "ARROW spectra contain 12 'header' lines of 'comments' which contain useful information about the observation. In this activity this information is not needed but it will be in the next Activity.\n",
    "\n",
    "The next line after this contains the names of the data columns ('frequency' and 'intensity'). The actual 2 data columns then follow.\n"
   ]
  },
  {
   "cell_type": "code",
   "execution_count": 7,
   "metadata": {},
   "outputs": [
    {
     "data": {
      "text/html": [
       "\n",
       "    <div class=\"bk-root\">\n",
       "        <a href=\"https://bokeh.pydata.org\" target=\"_blank\" class=\"bk-logo bk-logo-small bk-logo-notebook\"></a>\n",
       "        <span id=\"1001\">Loading BokehJS ...</span>\n",
       "    </div>"
      ]
     },
     "metadata": {},
     "output_type": "display_data"
    },
    {
     "data": {
      "application/javascript": [
       "\n",
       "(function(root) {\n",
       "  function now() {\n",
       "    return new Date();\n",
       "  }\n",
       "\n",
       "  var force = true;\n",
       "\n",
       "  if (typeof root._bokeh_onload_callbacks === \"undefined\" || force === true) {\n",
       "    root._bokeh_onload_callbacks = [];\n",
       "    root._bokeh_is_loading = undefined;\n",
       "  }\n",
       "\n",
       "  var JS_MIME_TYPE = 'application/javascript';\n",
       "  var HTML_MIME_TYPE = 'text/html';\n",
       "  var EXEC_MIME_TYPE = 'application/vnd.bokehjs_exec.v0+json';\n",
       "  var CLASS_NAME = 'output_bokeh rendered_html';\n",
       "\n",
       "  /**\n",
       "   * Render data to the DOM node\n",
       "   */\n",
       "  function render(props, node) {\n",
       "    var script = document.createElement(\"script\");\n",
       "    node.appendChild(script);\n",
       "  }\n",
       "\n",
       "  /**\n",
       "   * Handle when an output is cleared or removed\n",
       "   */\n",
       "  function handleClearOutput(event, handle) {\n",
       "    var cell = handle.cell;\n",
       "\n",
       "    var id = cell.output_area._bokeh_element_id;\n",
       "    var server_id = cell.output_area._bokeh_server_id;\n",
       "    // Clean up Bokeh references\n",
       "    if (id != null && id in Bokeh.index) {\n",
       "      Bokeh.index[id].model.document.clear();\n",
       "      delete Bokeh.index[id];\n",
       "    }\n",
       "\n",
       "    if (server_id !== undefined) {\n",
       "      // Clean up Bokeh references\n",
       "      var cmd = \"from bokeh.io.state import curstate; print(curstate().uuid_to_server['\" + server_id + \"'].get_sessions()[0].document.roots[0]._id)\";\n",
       "      cell.notebook.kernel.execute(cmd, {\n",
       "        iopub: {\n",
       "          output: function(msg) {\n",
       "            var id = msg.content.text.trim();\n",
       "            if (id in Bokeh.index) {\n",
       "              Bokeh.index[id].model.document.clear();\n",
       "              delete Bokeh.index[id];\n",
       "            }\n",
       "          }\n",
       "        }\n",
       "      });\n",
       "      // Destroy server and session\n",
       "      var cmd = \"import bokeh.io.notebook as ion; ion.destroy_server('\" + server_id + \"')\";\n",
       "      cell.notebook.kernel.execute(cmd);\n",
       "    }\n",
       "  }\n",
       "\n",
       "  /**\n",
       "   * Handle when a new output is added\n",
       "   */\n",
       "  function handleAddOutput(event, handle) {\n",
       "    var output_area = handle.output_area;\n",
       "    var output = handle.output;\n",
       "\n",
       "    // limit handleAddOutput to display_data with EXEC_MIME_TYPE content only\n",
       "    if ((output.output_type != \"display_data\") || (!output.data.hasOwnProperty(EXEC_MIME_TYPE))) {\n",
       "      return\n",
       "    }\n",
       "\n",
       "    var toinsert = output_area.element.find(\".\" + CLASS_NAME.split(' ')[0]);\n",
       "\n",
       "    if (output.metadata[EXEC_MIME_TYPE][\"id\"] !== undefined) {\n",
       "      toinsert[toinsert.length - 1].firstChild.textContent = output.data[JS_MIME_TYPE];\n",
       "      // store reference to embed id on output_area\n",
       "      output_area._bokeh_element_id = output.metadata[EXEC_MIME_TYPE][\"id\"];\n",
       "    }\n",
       "    if (output.metadata[EXEC_MIME_TYPE][\"server_id\"] !== undefined) {\n",
       "      var bk_div = document.createElement(\"div\");\n",
       "      bk_div.innerHTML = output.data[HTML_MIME_TYPE];\n",
       "      var script_attrs = bk_div.children[0].attributes;\n",
       "      for (var i = 0; i < script_attrs.length; i++) {\n",
       "        toinsert[toinsert.length - 1].firstChild.setAttribute(script_attrs[i].name, script_attrs[i].value);\n",
       "      }\n",
       "      // store reference to server id on output_area\n",
       "      output_area._bokeh_server_id = output.metadata[EXEC_MIME_TYPE][\"server_id\"];\n",
       "    }\n",
       "  }\n",
       "\n",
       "  function register_renderer(events, OutputArea) {\n",
       "\n",
       "    function append_mime(data, metadata, element) {\n",
       "      // create a DOM node to render to\n",
       "      var toinsert = this.create_output_subarea(\n",
       "        metadata,\n",
       "        CLASS_NAME,\n",
       "        EXEC_MIME_TYPE\n",
       "      );\n",
       "      this.keyboard_manager.register_events(toinsert);\n",
       "      // Render to node\n",
       "      var props = {data: data, metadata: metadata[EXEC_MIME_TYPE]};\n",
       "      render(props, toinsert[toinsert.length - 1]);\n",
       "      element.append(toinsert);\n",
       "      return toinsert\n",
       "    }\n",
       "\n",
       "    /* Handle when an output is cleared or removed */\n",
       "    events.on('clear_output.CodeCell', handleClearOutput);\n",
       "    events.on('delete.Cell', handleClearOutput);\n",
       "\n",
       "    /* Handle when a new output is added */\n",
       "    events.on('output_added.OutputArea', handleAddOutput);\n",
       "\n",
       "    /**\n",
       "     * Register the mime type and append_mime function with output_area\n",
       "     */\n",
       "    OutputArea.prototype.register_mime_type(EXEC_MIME_TYPE, append_mime, {\n",
       "      /* Is output safe? */\n",
       "      safe: true,\n",
       "      /* Index of renderer in `output_area.display_order` */\n",
       "      index: 0\n",
       "    });\n",
       "  }\n",
       "\n",
       "  // register the mime type if in Jupyter Notebook environment and previously unregistered\n",
       "  if (root.Jupyter !== undefined) {\n",
       "    var events = require('base/js/events');\n",
       "    var OutputArea = require('notebook/js/outputarea').OutputArea;\n",
       "\n",
       "    if (OutputArea.prototype.mime_types().indexOf(EXEC_MIME_TYPE) == -1) {\n",
       "      register_renderer(events, OutputArea);\n",
       "    }\n",
       "  }\n",
       "\n",
       "  \n",
       "  if (typeof (root._bokeh_timeout) === \"undefined\" || force === true) {\n",
       "    root._bokeh_timeout = Date.now() + 5000;\n",
       "    root._bokeh_failed_load = false;\n",
       "  }\n",
       "\n",
       "  var NB_LOAD_WARNING = {'data': {'text/html':\n",
       "     \"<div style='background-color: #fdd'>\\n\"+\n",
       "     \"<p>\\n\"+\n",
       "     \"BokehJS does not appear to have successfully loaded. If loading BokehJS from CDN, this \\n\"+\n",
       "     \"may be due to a slow or bad network connection. Possible fixes:\\n\"+\n",
       "     \"</p>\\n\"+\n",
       "     \"<ul>\\n\"+\n",
       "     \"<li>re-rerun `output_notebook()` to attempt to load from CDN again, or</li>\\n\"+\n",
       "     \"<li>use INLINE resources instead, as so:</li>\\n\"+\n",
       "     \"</ul>\\n\"+\n",
       "     \"<code>\\n\"+\n",
       "     \"from bokeh.resources import INLINE\\n\"+\n",
       "     \"output_notebook(resources=INLINE)\\n\"+\n",
       "     \"</code>\\n\"+\n",
       "     \"</div>\"}};\n",
       "\n",
       "  function display_loaded() {\n",
       "    var el = document.getElementById(\"1001\");\n",
       "    if (el != null) {\n",
       "      el.textContent = \"BokehJS is loading...\";\n",
       "    }\n",
       "    if (root.Bokeh !== undefined) {\n",
       "      if (el != null) {\n",
       "        el.textContent = \"BokehJS \" + root.Bokeh.version + \" successfully loaded.\";\n",
       "      }\n",
       "    } else if (Date.now() < root._bokeh_timeout) {\n",
       "      setTimeout(display_loaded, 100)\n",
       "    }\n",
       "  }\n",
       "\n",
       "\n",
       "  function run_callbacks() {\n",
       "    try {\n",
       "      root._bokeh_onload_callbacks.forEach(function(callback) {\n",
       "        if (callback != null)\n",
       "          callback();\n",
       "      });\n",
       "    } finally {\n",
       "      delete root._bokeh_onload_callbacks\n",
       "    }\n",
       "    console.debug(\"Bokeh: all callbacks have finished\");\n",
       "  }\n",
       "\n",
       "  function load_libs(css_urls, js_urls, callback) {\n",
       "    if (css_urls == null) css_urls = [];\n",
       "    if (js_urls == null) js_urls = [];\n",
       "\n",
       "    root._bokeh_onload_callbacks.push(callback);\n",
       "    if (root._bokeh_is_loading > 0) {\n",
       "      console.debug(\"Bokeh: BokehJS is being loaded, scheduling callback at\", now());\n",
       "      return null;\n",
       "    }\n",
       "    if (js_urls == null || js_urls.length === 0) {\n",
       "      run_callbacks();\n",
       "      return null;\n",
       "    }\n",
       "    console.debug(\"Bokeh: BokehJS not loaded, scheduling load and callback at\", now());\n",
       "    root._bokeh_is_loading = css_urls.length + js_urls.length;\n",
       "\n",
       "    function on_load() {\n",
       "      root._bokeh_is_loading--;\n",
       "      if (root._bokeh_is_loading === 0) {\n",
       "        console.debug(\"Bokeh: all BokehJS libraries/stylesheets loaded\");\n",
       "        run_callbacks()\n",
       "      }\n",
       "    }\n",
       "\n",
       "    function on_error() {\n",
       "      console.error(\"failed to load \" + url);\n",
       "    }\n",
       "\n",
       "    for (var i = 0; i < css_urls.length; i++) {\n",
       "      var url = css_urls[i];\n",
       "      const element = document.createElement(\"link\");\n",
       "      element.onload = on_load;\n",
       "      element.onerror = on_error;\n",
       "      element.rel = \"stylesheet\";\n",
       "      element.type = \"text/css\";\n",
       "      element.href = url;\n",
       "      console.debug(\"Bokeh: injecting link tag for BokehJS stylesheet: \", url);\n",
       "      document.body.appendChild(element);\n",
       "    }\n",
       "\n",
       "    for (var i = 0; i < js_urls.length; i++) {\n",
       "      var url = js_urls[i];\n",
       "      var element = document.createElement('script');\n",
       "      element.onload = on_load;\n",
       "      element.onerror = on_error;\n",
       "      element.async = false;\n",
       "      element.src = url;\n",
       "      console.debug(\"Bokeh: injecting script tag for BokehJS library: \", url);\n",
       "      document.head.appendChild(element);\n",
       "    }\n",
       "  };var element = document.getElementById(\"1001\");\n",
       "  if (element == null) {\n",
       "    console.error(\"Bokeh: ERROR: autoload.js configured with elementid '1001' but no matching script tag was found. \")\n",
       "    return false;\n",
       "  }\n",
       "\n",
       "  function inject_raw_css(css) {\n",
       "    const element = document.createElement(\"style\");\n",
       "    element.appendChild(document.createTextNode(css));\n",
       "    document.body.appendChild(element);\n",
       "  }\n",
       "\n",
       "  var js_urls = [\"https://cdn.pydata.org/bokeh/release/bokeh-1.2.0.min.js\", \"https://cdn.pydata.org/bokeh/release/bokeh-widgets-1.2.0.min.js\", \"https://cdn.pydata.org/bokeh/release/bokeh-tables-1.2.0.min.js\", \"https://cdn.pydata.org/bokeh/release/bokeh-gl-1.2.0.min.js\"];\n",
       "  var css_urls = [\"https://cdn.pydata.org/bokeh/release/bokeh-1.2.0.min.css\", \"https://cdn.pydata.org/bokeh/release/bokeh-widgets-1.2.0.min.css\", \"https://cdn.pydata.org/bokeh/release/bokeh-tables-1.2.0.min.css\"];\n",
       "\n",
       "  var inline_js = [\n",
       "    function(Bokeh) {\n",
       "      Bokeh.set_log_level(\"info\");\n",
       "    },\n",
       "    \n",
       "    function(Bokeh) {\n",
       "      \n",
       "    },\n",
       "    function(Bokeh) {} // ensure no trailing comma for IE\n",
       "  ];\n",
       "\n",
       "  function run_inline_js() {\n",
       "    \n",
       "    if ((root.Bokeh !== undefined) || (force === true)) {\n",
       "      for (var i = 0; i < inline_js.length; i++) {\n",
       "        inline_js[i].call(root, root.Bokeh);\n",
       "      }if (force === true) {\n",
       "        display_loaded();\n",
       "      }} else if (Date.now() < root._bokeh_timeout) {\n",
       "      setTimeout(run_inline_js, 100);\n",
       "    } else if (!root._bokeh_failed_load) {\n",
       "      console.log(\"Bokeh: BokehJS failed to load within specified timeout.\");\n",
       "      root._bokeh_failed_load = true;\n",
       "    } else if (force !== true) {\n",
       "      var cell = $(document.getElementById(\"1001\")).parents('.cell').data().cell;\n",
       "      cell.output_area.append_execute_result(NB_LOAD_WARNING)\n",
       "    }\n",
       "\n",
       "  }\n",
       "\n",
       "  if (root._bokeh_is_loading === 0) {\n",
       "    console.debug(\"Bokeh: BokehJS loaded, going straight to plotting\");\n",
       "    run_inline_js();\n",
       "  } else {\n",
       "    load_libs(css_urls, js_urls, function() {\n",
       "      console.debug(\"Bokeh: BokehJS plotting callback run at\", now());\n",
       "      run_inline_js();\n",
       "    });\n",
       "  }\n",
       "}(window));"
      ],
      "application/vnd.bokehjs_load.v0+json": "\n(function(root) {\n  function now() {\n    return new Date();\n  }\n\n  var force = true;\n\n  if (typeof root._bokeh_onload_callbacks === \"undefined\" || force === true) {\n    root._bokeh_onload_callbacks = [];\n    root._bokeh_is_loading = undefined;\n  }\n\n  \n\n  \n  if (typeof (root._bokeh_timeout) === \"undefined\" || force === true) {\n    root._bokeh_timeout = Date.now() + 5000;\n    root._bokeh_failed_load = false;\n  }\n\n  var NB_LOAD_WARNING = {'data': {'text/html':\n     \"<div style='background-color: #fdd'>\\n\"+\n     \"<p>\\n\"+\n     \"BokehJS does not appear to have successfully loaded. If loading BokehJS from CDN, this \\n\"+\n     \"may be due to a slow or bad network connection. Possible fixes:\\n\"+\n     \"</p>\\n\"+\n     \"<ul>\\n\"+\n     \"<li>re-rerun `output_notebook()` to attempt to load from CDN again, or</li>\\n\"+\n     \"<li>use INLINE resources instead, as so:</li>\\n\"+\n     \"</ul>\\n\"+\n     \"<code>\\n\"+\n     \"from bokeh.resources import INLINE\\n\"+\n     \"output_notebook(resources=INLINE)\\n\"+\n     \"</code>\\n\"+\n     \"</div>\"}};\n\n  function display_loaded() {\n    var el = document.getElementById(\"1001\");\n    if (el != null) {\n      el.textContent = \"BokehJS is loading...\";\n    }\n    if (root.Bokeh !== undefined) {\n      if (el != null) {\n        el.textContent = \"BokehJS \" + root.Bokeh.version + \" successfully loaded.\";\n      }\n    } else if (Date.now() < root._bokeh_timeout) {\n      setTimeout(display_loaded, 100)\n    }\n  }\n\n\n  function run_callbacks() {\n    try {\n      root._bokeh_onload_callbacks.forEach(function(callback) {\n        if (callback != null)\n          callback();\n      });\n    } finally {\n      delete root._bokeh_onload_callbacks\n    }\n    console.debug(\"Bokeh: all callbacks have finished\");\n  }\n\n  function load_libs(css_urls, js_urls, callback) {\n    if (css_urls == null) css_urls = [];\n    if (js_urls == null) js_urls = [];\n\n    root._bokeh_onload_callbacks.push(callback);\n    if (root._bokeh_is_loading > 0) {\n      console.debug(\"Bokeh: BokehJS is being loaded, scheduling callback at\", now());\n      return null;\n    }\n    if (js_urls == null || js_urls.length === 0) {\n      run_callbacks();\n      return null;\n    }\n    console.debug(\"Bokeh: BokehJS not loaded, scheduling load and callback at\", now());\n    root._bokeh_is_loading = css_urls.length + js_urls.length;\n\n    function on_load() {\n      root._bokeh_is_loading--;\n      if (root._bokeh_is_loading === 0) {\n        console.debug(\"Bokeh: all BokehJS libraries/stylesheets loaded\");\n        run_callbacks()\n      }\n    }\n\n    function on_error() {\n      console.error(\"failed to load \" + url);\n    }\n\n    for (var i = 0; i < css_urls.length; i++) {\n      var url = css_urls[i];\n      const element = document.createElement(\"link\");\n      element.onload = on_load;\n      element.onerror = on_error;\n      element.rel = \"stylesheet\";\n      element.type = \"text/css\";\n      element.href = url;\n      console.debug(\"Bokeh: injecting link tag for BokehJS stylesheet: \", url);\n      document.body.appendChild(element);\n    }\n\n    for (var i = 0; i < js_urls.length; i++) {\n      var url = js_urls[i];\n      var element = document.createElement('script');\n      element.onload = on_load;\n      element.onerror = on_error;\n      element.async = false;\n      element.src = url;\n      console.debug(\"Bokeh: injecting script tag for BokehJS library: \", url);\n      document.head.appendChild(element);\n    }\n  };var element = document.getElementById(\"1001\");\n  if (element == null) {\n    console.error(\"Bokeh: ERROR: autoload.js configured with elementid '1001' but no matching script tag was found. \")\n    return false;\n  }\n\n  function inject_raw_css(css) {\n    const element = document.createElement(\"style\");\n    element.appendChild(document.createTextNode(css));\n    document.body.appendChild(element);\n  }\n\n  var js_urls = [\"https://cdn.pydata.org/bokeh/release/bokeh-1.2.0.min.js\", \"https://cdn.pydata.org/bokeh/release/bokeh-widgets-1.2.0.min.js\", \"https://cdn.pydata.org/bokeh/release/bokeh-tables-1.2.0.min.js\", \"https://cdn.pydata.org/bokeh/release/bokeh-gl-1.2.0.min.js\"];\n  var css_urls = [\"https://cdn.pydata.org/bokeh/release/bokeh-1.2.0.min.css\", \"https://cdn.pydata.org/bokeh/release/bokeh-widgets-1.2.0.min.css\", \"https://cdn.pydata.org/bokeh/release/bokeh-tables-1.2.0.min.css\"];\n\n  var inline_js = [\n    function(Bokeh) {\n      Bokeh.set_log_level(\"info\");\n    },\n    \n    function(Bokeh) {\n      \n    },\n    function(Bokeh) {} // ensure no trailing comma for IE\n  ];\n\n  function run_inline_js() {\n    \n    if ((root.Bokeh !== undefined) || (force === true)) {\n      for (var i = 0; i < inline_js.length; i++) {\n        inline_js[i].call(root, root.Bokeh);\n      }if (force === true) {\n        display_loaded();\n      }} else if (Date.now() < root._bokeh_timeout) {\n      setTimeout(run_inline_js, 100);\n    } else if (!root._bokeh_failed_load) {\n      console.log(\"Bokeh: BokehJS failed to load within specified timeout.\");\n      root._bokeh_failed_load = true;\n    } else if (force !== true) {\n      var cell = $(document.getElementById(\"1001\")).parents('.cell').data().cell;\n      cell.output_area.append_execute_result(NB_LOAD_WARNING)\n    }\n\n  }\n\n  if (root._bokeh_is_loading === 0) {\n    console.debug(\"Bokeh: BokehJS loaded, going straight to plotting\");\n    run_inline_js();\n  } else {\n    load_libs(css_urls, js_urls, function() {\n      console.debug(\"Bokeh: BokehJS plotting callback run at\", now());\n      run_inline_js();\n    });\n  }\n}(window));"
     },
     "metadata": {},
     "output_type": "display_data"
    },
    {
     "data": {
      "text/html": [
       "\n",
       "\n",
       "\n",
       "\n",
       "\n",
       "\n",
       "  <div class=\"bk-root\" id=\"f7c0313d-1f41-4f7e-a3e7-3ea227088c2c\" data-root-id=\"1002\"></div>\n"
      ]
     },
     "metadata": {},
     "output_type": "display_data"
    },
    {
     "data": {
      "application/javascript": [
       "(function(root) {\n",
       "  function embed_document(root) {\n",
       "    \n",
       "  var docs_json = {\"73cac6d1-ce46-4dca-8e23-974b933961fe\":{\"roots\":{\"references\":[{\"attributes\":{\"below\":[{\"id\":\"1013\",\"type\":\"LinearAxis\"}],\"center\":[{\"id\":\"1017\",\"type\":\"Grid\"},{\"id\":\"1022\",\"type\":\"Grid\"}],\"left\":[{\"id\":\"1018\",\"type\":\"LinearAxis\"}],\"renderers\":[{\"id\":\"1039\",\"type\":\"GlyphRenderer\"}],\"title\":{\"id\":\"1003\",\"type\":\"Title\"},\"toolbar\":{\"id\":\"1029\",\"type\":\"Toolbar\"},\"x_range\":{\"id\":\"1005\",\"type\":\"DataRange1d\"},\"x_scale\":{\"id\":\"1009\",\"type\":\"LinearScale\"},\"y_range\":{\"id\":\"1007\",\"type\":\"DataRange1d\"},\"y_scale\":{\"id\":\"1011\",\"type\":\"LinearScale\"}},\"id\":\"1002\",\"subtype\":\"Figure\",\"type\":\"Plot\"},{\"attributes\":{},\"id\":\"1023\",\"type\":\"PanTool\"},{\"attributes\":{},\"id\":\"1024\",\"type\":\"WheelZoomTool\"},{\"attributes\":{\"callback\":null},\"id\":\"1005\",\"type\":\"DataRange1d\"},{\"attributes\":{\"overlay\":{\"id\":\"1048\",\"type\":\"BoxAnnotation\"}},\"id\":\"1025\",\"type\":\"BoxZoomTool\"},{\"attributes\":{},\"id\":\"1026\",\"type\":\"SaveTool\"},{\"attributes\":{},\"id\":\"1027\",\"type\":\"ResetTool\"},{\"attributes\":{\"text\":\"An ARROW spectrum\"},\"id\":\"1003\",\"type\":\"Title\"},{\"attributes\":{},\"id\":\"1028\",\"type\":\"HelpTool\"},{\"attributes\":{\"active_drag\":\"auto\",\"active_inspect\":\"auto\",\"active_multi\":null,\"active_scroll\":\"auto\",\"active_tap\":\"auto\",\"tools\":[{\"id\":\"1023\",\"type\":\"PanTool\"},{\"id\":\"1024\",\"type\":\"WheelZoomTool\"},{\"id\":\"1025\",\"type\":\"BoxZoomTool\"},{\"id\":\"1026\",\"type\":\"SaveTool\"},{\"id\":\"1027\",\"type\":\"ResetTool\"},{\"id\":\"1028\",\"type\":\"HelpTool\"},{\"id\":\"1041\",\"type\":\"HoverTool\"}]},\"id\":\"1029\",\"type\":\"Toolbar\"},{\"attributes\":{\"callback\":null},\"id\":\"1007\",\"type\":\"DataRange1d\"},{\"attributes\":{\"line_alpha\":0.1,\"line_color\":\"#1f77b4\",\"x\":{\"field\":\"x\"},\"y\":{\"field\":\"y\"}},\"id\":\"1038\",\"type\":\"Line\"},{\"attributes\":{},\"id\":\"1009\",\"type\":\"LinearScale\"},{\"attributes\":{\"data_source\":{\"id\":\"1036\",\"type\":\"ColumnDataSource\"},\"glyph\":{\"id\":\"1037\",\"type\":\"Line\"},\"hover_glyph\":null,\"muted_glyph\":null,\"nonselection_glyph\":{\"id\":\"1038\",\"type\":\"Line\"},\"selection_glyph\":null,\"view\":{\"id\":\"1040\",\"type\":\"CDSView\"}},\"id\":\"1039\",\"type\":\"GlyphRenderer\"},{\"attributes\":{\"source\":{\"id\":\"1036\",\"type\":\"ColumnDataSource\"}},\"id\":\"1040\",\"type\":\"CDSView\"},{\"attributes\":{},\"id\":\"1011\",\"type\":\"LinearScale\"},{\"attributes\":{\"axis_label\":\"Frequency (Hz)\",\"formatter\":{\"id\":\"1044\",\"type\":\"BasicTickFormatter\"},\"ticker\":{\"id\":\"1014\",\"type\":\"BasicTicker\"}},\"id\":\"1013\",\"type\":\"LinearAxis\"},{\"attributes\":{},\"id\":\"1044\",\"type\":\"BasicTickFormatter\"},{\"attributes\":{},\"id\":\"1014\",\"type\":\"BasicTicker\"},{\"attributes\":{\"ticker\":{\"id\":\"1014\",\"type\":\"BasicTicker\"}},\"id\":\"1017\",\"type\":\"Grid\"},{\"attributes\":{},\"id\":\"1046\",\"type\":\"BasicTickFormatter\"},{\"attributes\":{\"axis_label\":\"Intensity\",\"formatter\":{\"id\":\"1046\",\"type\":\"BasicTickFormatter\"},\"ticker\":{\"id\":\"1019\",\"type\":\"BasicTicker\"}},\"id\":\"1018\",\"type\":\"LinearAxis\"},{\"attributes\":{\"bottom_units\":\"screen\",\"fill_alpha\":{\"value\":0.5},\"fill_color\":{\"value\":\"lightgrey\"},\"left_units\":\"screen\",\"level\":\"overlay\",\"line_alpha\":{\"value\":1.0},\"line_color\":{\"value\":\"black\"},\"line_dash\":[4,4],\"line_width\":{\"value\":2},\"render_mode\":\"css\",\"right_units\":\"screen\",\"top_units\":\"screen\"},\"id\":\"1048\",\"type\":\"BoxAnnotation\"},{\"attributes\":{},\"id\":\"1019\",\"type\":\"BasicTicker\"},{\"attributes\":{},\"id\":\"1049\",\"type\":\"Selection\"},{\"attributes\":{\"dimension\":1,\"ticker\":{\"id\":\"1019\",\"type\":\"BasicTicker\"}},\"id\":\"1022\",\"type\":\"Grid\"},{\"attributes\":{},\"id\":\"1050\",\"type\":\"UnionRenderers\"},{\"attributes\":{\"callback\":null,\"data\":{\"x\":[-800000,-795000,-790000,-785000,-780000,-775000,-770000,-765000,-760000,-755000,-750000,-745000,-740000,-735000,-730000,-725000,-720000,-715000,-710000,-705000,-700000,-695000,-690000,-685000,-680000,-675000,-670000,-665000,-660000,-655000,-650000,-645000,-640000,-635000,-630000,-625000,-620000,-615000,-610000,-605000,-600000,-595000,-590000,-585000,-580000,-575000,-570000,-565000,-560000,-555000,-550000,-545000,-540000,-535000,-530000,-525000,-520000,-515000,-510000,-505000,-500000,-495000,-490000,-485000,-480000,-475000,-470000,-465000,-460000,-455000,-450000,-445000,-440000,-435000,-430000,-425000,-420000,-415000,-410000,-405000,-400000,-395000,-390000,-385000,-380000,-375000,-370000,-365000,-360000,-355000,-350000,-345000,-340000,-335000,-330000,-325000,-320000,-315000,-310000,-305000,-300000,-295000,-290000,-285000,-280000,-275000,-270000,-265000,-260000,-255000,-250000,-245000,-240000,-235000,-230000,-225000,-220000,-215000,-210000,-205000,-200000,-195000,-190000,-185000,-180000,-175000,-170000,-165000,-160000,-155000,-150000,-145000,-140000,-135000,-130000,-125000,-120000,-115000,-110000,-105000,-100000,-95000,-90000,-85000,-80000,-75000,-70000,-65000,-60000,-55000,-50000,-45000,-40000,-35000,-30000,-25000,-20000,-15000,-10000,-5000,0,5000,10000,15000,20000,25000,30000,35000,40000,45000,50000,55000,60000,65000,70000,75000,80000,85000,90000,95000,100000,105000,110000,115000,120000,125000,130000,135000,140000,145000,150000,155000,160000,165000,170000,175000,180000,185000,190000,195000,200000,205000,210000,215000,220000,225000,230000,235000,240000,245000,250000,255000,260000,265000,270000,275000,280000,285000,290000,295000,300000,305000,310000,315000,320000,325000,330000,335000,340000,345000,350000,355000,360000,365000,370000,375000,380000,385000,390000,395000,400000,405000,410000,415000,420000,425000,430000,435000,440000,445000,450000,455000,460000,465000,470000,475000,480000,485000,490000,495000,500000,505000,510000,515000,520000,525000,530000,535000,540000,545000,550000,555000,560000,565000,570000,575000,580000,585000,590000,595000,600000,605000,610000,615000,620000,625000,630000,635000,640000,645000,650000,655000,660000,665000,670000,675000,680000,685000,690000,695000,700000,705000,710000,715000,720000,725000,730000,735000,740000,745000,750000,755000,760000,765000,770000,775000,780000,785000,790000,795000,800000,805000,810000,815000,820000,825000,830000,835000,840000,845000,850000,855000,860000,865000,870000,875000,880000,885000,890000,895000,900000,905000,910000,915000,920000,925000,930000,935000,940000,945000,950000,955000,960000,965000,970000,975000,980000,985000,990000,995000,1000000,1005000,1010000,1015000,1020000,1025000,1030000,1035000,1040000,1045000,1050000,1055000,1060000,1065000,1070000,1075000,1080000,1085000,1090000,1095000,1100000,1105000,1110000,1115000,1120000,1125000,1130000,1135000,1140000,1145000,1150000,1155000,1160000,1165000,1170000,1175000,1180000,1185000,1190000,1195000,1200000,1205000,1210000,1215000,1220000,1225000,1230000,1235000,1240000,1245000,1250000,1255000,1260000,1265000,1270000,1275000,1280000,1285000,1290000,1295000,1300000],\"y\":{\"__ndarray__\":\"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\",\"dtype\":\"float64\",\"shape\":[421]}},\"selected\":{\"id\":\"1049\",\"type\":\"Selection\"},\"selection_policy\":{\"id\":\"1050\",\"type\":\"UnionRenderers\"}},\"id\":\"1036\",\"type\":\"ColumnDataSource\"},{\"attributes\":{\"line_color\":\"#1f77b4\",\"x\":{\"field\":\"x\"},\"y\":{\"field\":\"y\"}},\"id\":\"1037\",\"type\":\"Line\"},{\"attributes\":{\"callback\":null,\"mode\":\"vline\"},\"id\":\"1041\",\"type\":\"HoverTool\"}],\"root_ids\":[\"1002\"]},\"title\":\"Bokeh Application\",\"version\":\"1.2.0\"}};\n",
       "  var render_items = [{\"docid\":\"73cac6d1-ce46-4dca-8e23-974b933961fe\",\"roots\":{\"1002\":\"f7c0313d-1f41-4f7e-a3e7-3ea227088c2c\"}}];\n",
       "  root.Bokeh.embed.embed_items_notebook(docs_json, render_items);\n",
       "\n",
       "  }\n",
       "  if (root.Bokeh !== undefined) {\n",
       "    embed_document(root);\n",
       "  } else {\n",
       "    var attempts = 0;\n",
       "    var timer = setInterval(function(root) {\n",
       "      if (root.Bokeh !== undefined) {\n",
       "        embed_document(root);\n",
       "        clearInterval(timer);\n",
       "      }\n",
       "      attempts++;\n",
       "      if (attempts > 100) {\n",
       "        console.log(\"Bokeh: ERROR: Unable to run BokehJS code because BokehJS library is missing\");\n",
       "        clearInterval(timer);\n",
       "      }\n",
       "    }, 10, root)\n",
       "  }\n",
       "})(window);"
      ],
      "application/vnd.bokehjs_exec.v0+json": ""
     },
     "metadata": {
      "application/vnd.bokehjs_exec.v0+json": {
       "id": "1002"
      }
     },
     "output_type": "display_data"
    }
   ],
   "source": [
    "import pandas as pd\n",
    "from bokeh.plotting import figure, output_notebook, show\n",
    "from bokeh.models.tools import HoverTool\n",
    "\n",
    "number_header_lines=12\n",
    "#file_name = input('Enter spectrum file name ')\n",
    "file_name = '080-orig.csv' # For debugging purposes to save typing\n",
    "\n",
    "# Read in the data - note we skip over the header lines\n",
    "spectrum_df = pd.read_csv(file_name, header=number_header_lines)\n",
    "\n",
    "# Display it.\n",
    "# Note the addition of a 'HoverTool' which gives interactive information of any\n",
    "# data point near the cursor. This is not vital here but is essential in later Activities.\n",
    "\n",
    "output_notebook() # Needed to display the figure 'inline'\n",
    "\n",
    "p = figure(title = \"An ARROW spectrum\", \n",
    "          x_axis_label='Frequency (Hz)', \n",
    "          y_axis_label='Intensity')\n",
    "p.line(spectrum_df['frequency'], spectrum_df['intensity'])\n",
    "p.add_tools(HoverTool(mode='vline'))\n",
    "show(p)"
   ]
  },
  {
   "cell_type": "markdown",
   "metadata": {},
   "source": [
    "## Activity 4.2 Processing the data\n",
    "\n",
    "Here we begin to process the data, converting from frequency offsets to radila velocity.\n",
    "\n",
    "We read in the data BUT we have to keep the header data for later (we need to add it back into a new file containing radial velocity data).\n",
    "\n",
    "Calculate the velocities using the Doppler equation\n",
    "\n",
    "Re-write the spectrum, but now containing the velocity information.\n",
    "\n",
    "In the example below a couple of helper functions have been written. This isn't necessary and the code could be placed in the main code. We've done this because it's the type of code that might be useful as ablock elsewhere. The function that takes the input file name and provide s new output file name is really not essential - you could just prompt the user for a new name. \n",
    "\n",
    "We'll use matplotlib to display the spectrum - bokeh would work just as well.\n"
   ]
  },
  {
   "cell_type": "code",
   "execution_count": 12,
   "metadata": {},
   "outputs": [
    {
     "data": {
      "image/png": "[encoded data removed]",
      "text/plain": [
       "<Figure size 432x288 with 1 Axes>"
      ]
     },
     "metadata": {
      "needs_background": "light"
     },
     "output_type": "display_data"
    }
   ],
   "source": [
    "%matplotlib inline\n",
    "import matplotlib.pyplot as plt\n",
    "\n",
    "import pandas as pd\n",
    "import re # Optional for the gen_file_name() function\n",
    "\n",
    "# OPTIONAL A Function to convert frequency to radial velocity. Normally expect this to be pleaced at the\n",
    "# start of the program\n",
    "\n",
    "def freq_to_vel(freq, f0=1420.4e6):\n",
    "    ''' Takes a frequency value (or Pandas Dataframe column or Series) and returns\n",
    "    a velocity value (km/s) (or new Dataframe column of values). f0 is the rest\n",
    "    frequency and defaults to 1420.4 MHz'''\n",
    "    \n",
    "    # We need a value for 'c' - speed of light. Either just do it here or, neatly, use the \n",
    "    # astropy 'constants'\n",
    "    c = 299792458.0  #m/s\n",
    "    \n",
    "    v = v = -c*(freq)/(freq+f0)\n",
    "    return v/1000  #(km/s)          \n",
    "\n",
    "# OPTIONAL A simple function to generate a new name for the velocity/intensity file.\n",
    "# Could just prompt user for a new name.\n",
    "def gen_file_name(f_name):\n",
    "    ''' Just adds \"-vel\" to file name before \".csv\"'''\n",
    "    return f_name.replace(\".\", \"-vel.\")\n",
    "\n",
    "#====================#\n",
    "# START OF MAIN CODE #\n",
    "#====================#\n",
    "\n",
    "number_header_lines=12\n",
    "\n",
    "#file_name = input('Enter spectrum file name ')\n",
    "file_name = '080-orig.csv' # For debugging purposes to save typing\n",
    "\n",
    "# First get 'header' lines - there are 12 of them we'll\n",
    "# Add these back on to our modified CSV later\n",
    "with open(file_name) as f:\n",
    "#    header_lines = [f.readline().strip() for x in range(number_header_lines)]\n",
    "    header_lines = [f.readline() for x in range(number_header_lines)]\n",
    "\n",
    "# Read in the rest of the data\n",
    "spectrum_df = pd.read_csv(file_name, header=number_header_lines)\n",
    "\n",
    "# OPTIONAL Read in the background spectra, average and subtract from the spectrum\n",
    "# Here we use  'hard-wired' file names but you could, and probably should, use a file \n",
    "# list, or manually enter them.\n",
    "bg1 = pd.read_csv('bg1.csv', header=number_header_lines)\n",
    "bg2 = pd.read_csv('bg2.csv', header=number_header_lines)\n",
    "bg3 = pd.read_csv('bg3.csv', header=number_header_lines)\n",
    "\n",
    "# Compute average 'intensity' values\n",
    "bg_av = (bg1['intensity']+bg2['intensity']+bg3['intensity'])/3\n",
    "\n",
    "# Subract from spectrum 'intensity'\n",
    "spectrum_df['intensity'] = spectrum_df['intensity']-bg_av.values\n",
    "\n",
    "# Convert frequency to radial velocity values using this function\n",
    "spectrum_v = freq_to_vel(spectrum_df['frequency'])\n",
    "\n",
    "# Add a new 'velocity' column with these values\n",
    "spectrum_df['velocity'] = spectrum_v\n",
    "\n",
    "# Plot it out as a check \n",
    "plt.plot(spectrum_df['velocity'], spectrum_df['intensity'])\n",
    "plt.xlabel('Radial Velocity (km/s)')\n",
    "plt.ylabel('Intensity')\n",
    "\n",
    "# Bokeh version - but note you'd need to import different things\n",
    "#output_notebook()\n",
    "#p = figure(title = \"Put your Title here\", \n",
    "#          x_axis_label='Velocity (kms^-1)', \n",
    "#          y_axis_label='Intensity')\n",
    "#p.line(DataFrame x values, DataFrame y values)\n",
    "show(p)\n",
    "\n",
    "# Write it out to a new file.\n",
    "# The 'file_name' was user input earlier\n",
    "# Here, gen_file_name() is the function we defined earlier which is used to generate a new file\n",
    "# name. You could just as easily prompt the user for a new name.\n",
    "new_file_name = gen_file_name(file_name) \n",
    "\n",
    "# First write the header lines that we read in earlier to the file\n",
    "with open(new_file_name, \"w\") as f:\n",
    "    f.writelines(header_lines)\n",
    "    \n",
    "# Now append the modified csv data\n",
    "# NOTE we just 'append' the data - otherwise we would overwtite the header lines\n",
    "spectrum_df.to_csv(new_file_name, index=False, mode='a')"
   ]
  },
  {
   "cell_type": "markdown",
   "metadata": {},
   "source": [
    "## Activity 4.3 Measuring speeds from your own data\n",
    "\n",
    "THis is essentially identical to 4.1 (using HoverTool) but using the file(s) output from 4.2 - and actually noting some information down"
   ]
  },
  {
   "cell_type": "markdown",
   "metadata": {},
   "source": [
    "## Activity 5.2 Plotting and measuring speeds from archived data\n",
    "\n",
    "Once again, this is similar to 4.1 and 4.3 - except there is more than one data column in the archived spectra file. The Boke notebook contains much of the actual code needed.\n",
    "\n",
    "\n",
    "This solution usese Bokeh in conjunction with pandas dataframes, but numPy arrays or plain Python lists should work just fine.\n",
    "\n",
    "NOTE: clear_output() from a module called IPython just gives the ability to clear plots from the Jupyter notebook. Not necessary but neater.\n",
    "\n",
    "The two lines:\n",
    "\n",
    "`\n",
    "\n",
    "    from IPython.core.interactiveshell import InteractiveShell\n",
    "    InteractiveShell.ast_node_interactivity = \"all\"\n",
    "`\n",
    "\n",
    "Are not essential, they just allow a 'pretty' display of a pandas dataframe to be produced just by using the dataframe name/function. So just typing df.head() will produce a nicely tabulated display of the first 5 lines of the datframe - print(df.head()) will work fine without this.\n"
   ]
  },
  {
   "cell_type": "code",
   "execution_count": 17,
   "metadata": {},
   "outputs": [
    {
     "data": {
      "text/html": [
       "<div style=\"display: table;\"><div style=\"display: table-row;\"><div style=\"display: table-cell;\"><b title=\"bokeh.models.renderers.GlyphRenderer\">GlyphRenderer</b>(</div><div style=\"display: table-cell;\">id&nbsp;=&nbsp;'4571', <span id=\"4574\" style=\"cursor: pointer;\">&hellip;)</span></div></div><div class=\"4573\" style=\"display: none;\"><div style=\"display: table-cell;\"></div><div style=\"display: table-cell;\">data_source&nbsp;=&nbsp;ColumnDataSource(id='4568', ...),</div></div><div class=\"4573\" style=\"display: none;\"><div style=\"display: table-cell;\"></div><div style=\"display: table-cell;\">glyph&nbsp;=&nbsp;Line(id='4569', ...),</div></div><div class=\"4573\" style=\"display: none;\"><div style=\"display: table-cell;\"></div><div style=\"display: table-cell;\">hover_glyph&nbsp;=&nbsp;None,</div></div><div class=\"4573\" style=\"display: none;\"><div style=\"display: table-cell;\"></div><div style=\"display: table-cell;\">js_event_callbacks&nbsp;=&nbsp;{},</div></div><div class=\"4573\" style=\"display: none;\"><div style=\"display: table-cell;\"></div><div style=\"display: table-cell;\">js_property_callbacks&nbsp;=&nbsp;{},</div></div><div class=\"4573\" style=\"display: none;\"><div style=\"display: table-cell;\"></div><div style=\"display: table-cell;\">level&nbsp;=&nbsp;'glyph',</div></div><div class=\"4573\" style=\"display: none;\"><div style=\"display: table-cell;\"></div><div style=\"display: table-cell;\">muted&nbsp;=&nbsp;False,</div></div><div class=\"4573\" style=\"display: none;\"><div style=\"display: table-cell;\"></div><div style=\"display: table-cell;\">muted_glyph&nbsp;=&nbsp;None,</div></div><div class=\"4573\" style=\"display: none;\"><div style=\"display: table-cell;\"></div><div style=\"display: table-cell;\">name&nbsp;=&nbsp;None,</div></div><div class=\"4573\" style=\"display: none;\"><div style=\"display: table-cell;\"></div><div style=\"display: table-cell;\">nonselection_glyph&nbsp;=&nbsp;Line(id='4570', ...),</div></div><div class=\"4573\" style=\"display: none;\"><div style=\"display: table-cell;\"></div><div style=\"display: table-cell;\">selection_glyph&nbsp;=&nbsp;None,</div></div><div class=\"4573\" style=\"display: none;\"><div style=\"display: table-cell;\"></div><div style=\"display: table-cell;\">subscribed_events&nbsp;=&nbsp;[],</div></div><div class=\"4573\" style=\"display: none;\"><div style=\"display: table-cell;\"></div><div style=\"display: table-cell;\">tags&nbsp;=&nbsp;[],</div></div><div class=\"4573\" style=\"display: none;\"><div style=\"display: table-cell;\"></div><div style=\"display: table-cell;\">view&nbsp;=&nbsp;CDSView(id='4572', ...),</div></div><div class=\"4573\" style=\"display: none;\"><div style=\"display: table-cell;\"></div><div style=\"display: table-cell;\">visible&nbsp;=&nbsp;True,</div></div><div class=\"4573\" style=\"display: none;\"><div style=\"display: table-cell;\"></div><div style=\"display: table-cell;\">x_range_name&nbsp;=&nbsp;'default',</div></div><div class=\"4573\" style=\"display: none;\"><div style=\"display: table-cell;\"></div><div style=\"display: table-cell;\">y_range_name&nbsp;=&nbsp;'default')</div></div></div>\n",
       "<script>\n",
       "(function() {\n",
       "  var expanded = false;\n",
       "  var ellipsis = document.getElementById(\"4574\");\n",
       "  ellipsis.addEventListener(\"click\", function() {\n",
       "    var rows = document.getElementsByClassName(\"4573\");\n",
       "    for (var i = 0; i < rows.length; i++) {\n",
       "      var el = rows[i];\n",
       "      el.style.display = expanded ? \"none\" : \"table-row\";\n",
       "    }\n",
       "    ellipsis.innerHTML = expanded ? \"&hellip;)\" : \"&lsaquo;&lsaquo;&lsaquo;\";\n",
       "    expanded = !expanded;\n",
       "  });\n",
       "})();\n",
       "</script>\n"
      ],
      "text/plain": [
       "GlyphRenderer(id='4571', ...)"
      ]
     },
     "execution_count": 17,
     "metadata": {},
     "output_type": "execute_result"
    },
    {
     "data": {
      "text/html": [
       "\n",
       "\n",
       "\n",
       "\n",
       "\n",
       "\n",
       "  <div class=\"bk-root\" id=\"af66f39b-0f97-4136-86f9-61a362051d95\" data-root-id=\"4534\"></div>\n"
      ]
     },
     "metadata": {},
     "output_type": "display_data"
    },
    {
     "data": {
      "application/javascript": [
       "(function(root) {\n",
       "  function embed_document(root) {\n",
       "    \n",
       "  var docs_json = {\"4eb2a8b4-72e7-4738-a205-0142e4ca7754\":{\"roots\":{\"references\":[{\"attributes\":{\"below\":[{\"id\":\"4545\",\"type\":\"LinearAxis\"}],\"center\":[{\"id\":\"4549\",\"type\":\"Grid\"},{\"id\":\"4554\",\"type\":\"Grid\"}],\"left\":[{\"id\":\"4550\",\"type\":\"LinearAxis\"}],\"renderers\":[{\"id\":\"4571\",\"type\":\"GlyphRenderer\"}],\"title\":{\"id\":\"4535\",\"type\":\"Title\"},\"toolbar\":{\"id\":\"4561\",\"type\":\"Toolbar\"},\"x_range\":{\"id\":\"4537\",\"type\":\"DataRange1d\"},\"x_scale\":{\"id\":\"4541\",\"type\":\"LinearScale\"},\"y_range\":{\"id\":\"4539\",\"type\":\"DataRange1d\"},\"y_scale\":{\"id\":\"4543\",\"type\":\"LinearScale\"}},\"id\":\"4534\",\"subtype\":\"Figure\",\"type\":\"Plot\"},{\"attributes\":{},\"id\":\"4556\",\"type\":\"WheelZoomTool\"},{\"attributes\":{\"callback\":null,\"data\":{\"x\":{\"__ndarray__\":\"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\",\"dtype\":\"float64\",\"shape\":[774]},\"y\":{\"__ndarray__\":\"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\",\"dtype\":\"float64\",\"shape\":[774]}},\"selected\":{\"id\":\"4743\",\"type\":\"Selection\"},\"selection_policy\":{\"id\":\"4744\",\"type\":\"UnionRenderers\"}},\"id\":\"4568\",\"type\":\"ColumnDataSource\"},{\"attributes\":{},\"id\":\"4560\",\"type\":\"HelpTool\"},{\"attributes\":{\"callback\":null},\"id\":\"4537\",\"type\":\"DataRange1d\"},{\"attributes\":{\"active_drag\":\"auto\",\"active_inspect\":\"auto\",\"active_multi\":null,\"active_scroll\":\"auto\",\"active_tap\":\"auto\",\"tools\":[{\"id\":\"4555\",\"type\":\"PanTool\"},{\"id\":\"4556\",\"type\":\"WheelZoomTool\"},{\"id\":\"4557\",\"type\":\"BoxZoomTool\"},{\"id\":\"4558\",\"type\":\"SaveTool\"},{\"id\":\"4559\",\"type\":\"ResetTool\"},{\"id\":\"4560\",\"type\":\"HelpTool\"},{\"id\":\"4575\",\"type\":\"HoverTool\"}]},\"id\":\"4561\",\"type\":\"Toolbar\"},{\"attributes\":{\"line_alpha\":0.1,\"line_color\":\"#1f77b4\",\"x\":{\"field\":\"x\"},\"y\":{\"field\":\"y\"}},\"id\":\"4570\",\"type\":\"Line\"},{\"attributes\":{},\"id\":\"4555\",\"type\":\"PanTool\"},{\"attributes\":{\"data_source\":{\"id\":\"4568\",\"type\":\"ColumnDataSource\"},\"glyph\":{\"id\":\"4569\",\"type\":\"Line\"},\"hover_glyph\":null,\"muted_glyph\":null,\"nonselection_glyph\":{\"id\":\"4570\",\"type\":\"Line\"},\"selection_glyph\":null,\"view\":{\"id\":\"4572\",\"type\":\"CDSView\"}},\"id\":\"4571\",\"type\":\"GlyphRenderer\"},{\"attributes\":{\"source\":{\"id\":\"4568\",\"type\":\"ColumnDataSource\"}},\"id\":\"4572\",\"type\":\"CDSView\"},{\"attributes\":{},\"id\":\"4546\",\"type\":\"BasicTicker\"},{\"attributes\":{\"line_color\":\"#1f77b4\",\"x\":{\"field\":\"x\"},\"y\":{\"field\":\"y\"}},\"id\":\"4569\",\"type\":\"Line\"},{\"attributes\":{},\"id\":\"4738\",\"type\":\"BasicTickFormatter\"},{\"attributes\":{},\"id\":\"4551\",\"type\":\"BasicTicker\"},{\"attributes\":{},\"id\":\"4740\",\"type\":\"BasicTickFormatter\"},{\"attributes\":{\"dimension\":1,\"ticker\":{\"id\":\"4551\",\"type\":\"BasicTicker\"}},\"id\":\"4554\",\"type\":\"Grid\"},{\"attributes\":{\"bottom_units\":\"screen\",\"fill_alpha\":{\"value\":0.5},\"fill_color\":{\"value\":\"lightgrey\"},\"left_units\":\"screen\",\"level\":\"overlay\",\"line_alpha\":{\"value\":1.0},\"line_color\":{\"value\":\"black\"},\"line_dash\":[4,4],\"line_width\":{\"value\":2},\"render_mode\":\"css\",\"right_units\":\"screen\",\"top_units\":\"screen\"},\"id\":\"4742\",\"type\":\"BoxAnnotation\"},{\"attributes\":{\"axis_label\":\"Intensity\",\"formatter\":{\"id\":\"4740\",\"type\":\"BasicTickFormatter\"},\"ticker\":{\"id\":\"4551\",\"type\":\"BasicTicker\"}},\"id\":\"4550\",\"type\":\"LinearAxis\"},{\"attributes\":{},\"id\":\"4743\",\"type\":\"Selection\"},{\"attributes\":{},\"id\":\"4558\",\"type\":\"SaveTool\"},{\"attributes\":{},\"id\":\"4541\",\"type\":\"LinearScale\"},{\"attributes\":{},\"id\":\"4744\",\"type\":\"UnionRenderers\"},{\"attributes\":{\"ticker\":{\"id\":\"4546\",\"type\":\"BasicTicker\"}},\"id\":\"4549\",\"type\":\"Grid\"},{\"attributes\":{\"callback\":null},\"id\":\"4539\",\"type\":\"DataRange1d\"},{\"attributes\":{\"overlay\":{\"id\":\"4742\",\"type\":\"BoxAnnotation\"}},\"id\":\"4557\",\"type\":\"BoxZoomTool\"},{\"attributes\":{\"axis_label\":\"Velocity (kms^-1)\",\"formatter\":{\"id\":\"4738\",\"type\":\"BasicTickFormatter\"},\"ticker\":{\"id\":\"4546\",\"type\":\"BasicTicker\"}},\"id\":\"4545\",\"type\":\"LinearAxis\"},{\"attributes\":{},\"id\":\"4543\",\"type\":\"LinearScale\"},{\"attributes\":{\"callback\":null,\"mode\":\"vline\"},\"id\":\"4575\",\"type\":\"HoverTool\"},{\"attributes\":{\"text\":\"Spectral data from column l = 90 degrees\"},\"id\":\"4535\",\"type\":\"Title\"},{\"attributes\":{},\"id\":\"4559\",\"type\":\"ResetTool\"}],\"root_ids\":[\"4534\"]},\"title\":\"Bokeh Application\",\"version\":\"1.2.0\"}};\n",
       "  var render_items = [{\"docid\":\"4eb2a8b4-72e7-4738-a205-0142e4ca7754\",\"roots\":{\"4534\":\"af66f39b-0f97-4136-86f9-61a362051d95\"}}];\n",
       "  root.Bokeh.embed.embed_items_notebook(docs_json, render_items);\n",
       "\n",
       "  }\n",
       "  if (root.Bokeh !== undefined) {\n",
       "    embed_document(root);\n",
       "  } else {\n",
       "    var attempts = 0;\n",
       "    var timer = setInterval(function(root) {\n",
       "      if (root.Bokeh !== undefined) {\n",
       "        embed_document(root);\n",
       "        clearInterval(timer);\n",
       "      }\n",
       "      attempts++;\n",
       "      if (attempts > 100) {\n",
       "        console.log(\"Bokeh: ERROR: Unable to run BokehJS code because BokehJS library is missing\");\n",
       "        clearInterval(timer);\n",
       "      }\n",
       "    }, 10, root)\n",
       "  }\n",
       "})(window);"
      ],
      "application/vnd.bokehjs_exec.v0+json": ""
     },
     "metadata": {
      "application/vnd.bokehjs_exec.v0+json": {
       "id": "4534"
      }
     },
     "output_type": "display_data"
    },
    {
     "name": "stdout",
     "output_type": "stream",
     "text": [
      "Next plot: \n"
     ]
    },
    {
     "data": {
      "text/plain": [
       "''"
      ]
     },
     "execution_count": 17,
     "metadata": {},
     "output_type": "execute_result"
    }
   ],
   "source": [
    "import pandas as pd\n",
    "from bokeh.plotting import figure, output_notebook, show\n",
    "from bokeh.plotting import reset_output\n",
    "\n",
    "from IPython.display import display, clear_output\n",
    "\n",
    "from IPython.core.interactiveshell import InteractiveShell\n",
    "InteractiveShell.ast_node_interactivity = \"all\"\n",
    "\n",
    "# Read in the data. Note that it contains a line which has no actual data - but does contain\n",
    "# a bunch of ',' - so pandas will see this as 'null' data - expresssed as 'NaN'\n",
    "df = pd.read_csv('Archive_Spectra.csv', header=1, skip_blank_lines=True)\n",
    "df.head()\n",
    "\n",
    "# The blank line in the csv produces a row of NaN. Either edit the file before use or:\n",
    "df=df.dropna()\n",
    "df.head()\n",
    "\n",
    "# How many spectra have we got? It's one less than the total number of columns.\n",
    "spec_no = len(df.columns)-1\n",
    "\n",
    "# Cycle through the columns starting at column 1 \n",
    "# (remember index starts at 0 - which is the velocity column)\n",
    "for idx in range(1,11):\n",
    "    # Get the name of the column \n",
    "    colname=df.columns[idx]\n",
    "    # title with colname is not essential but does tell us what we're looking at\n",
    "    p1 = figure(title = \"Spectral data from column \"+colname, \n",
    "          x_axis_label='Velocity (kms^-1)', \n",
    "          y_axis_label='Intensity')\n",
    "    p1.line(df['km per sec'],df[colname]) #Could use column numbers an 'iloc'\n",
    "    p1.add_tools(HoverTool(mode='vline'))\n",
    "    show(p1)\n",
    "    # Wait between plots\n",
    "    input('Next plot: ')\n",
    "    # Clear the display before starting again - otherwise we get multiple plots\n",
    "    clear_output(wait=True)"
   ]
  },
  {
   "cell_type": "markdown",
   "metadata": {},
   "source": [
    "## Activity 5.3 Plotting the rotation curve\n",
    "\n",
    "After Activity 5.2, the students will need to produce a 'comma delimted' file with Vobs_max values - along with an estimate of the uncertainties.\n",
    "\n",
    "This activity reads this, calculates R and V values and produces a rotation curve from this. Either Bokeh or matplotlib can be used for plotting - here we'll use matplotlib as error bars are easier. "
   ]
  },
  {
   "cell_type": "code",
   "execution_count": 41,
   "metadata": {},
   "outputs": [
    {
     "data": {
      "text/plain": [
       "<ErrorbarContainer object of 3 artists>"
      ]
     },
     "execution_count": 41,
     "metadata": {},
     "output_type": "execute_result"
    },
    {
     "data": {
      "text/plain": [
       "Text(0.5, 1.0, 'Galactic rotation curve')"
      ]
     },
     "execution_count": 41,
     "metadata": {},
     "output_type": "execute_result"
    },
    {
     "data": {
      "text/plain": [
       "Text(0.5, 0, 'Radius (kpc)')"
      ]
     },
     "execution_count": 41,
     "metadata": {},
     "output_type": "execute_result"
    },
    {
     "data": {
      "text/plain": [
       "Text(0, 0.5, 'Speed (km/s)')"
      ]
     },
     "execution_count": 41,
     "metadata": {},
     "output_type": "execute_result"
    },
    {
     "name": "stdout",
     "output_type": "stream",
     "text": [
      "Optimised parameters are: 257.43694360350133 195.4020061124295 1.220104306701905\n"
     ]
    },
    {
     "data": {
      "text/plain": [
       "<matplotlib.collections.PathCollection at 0x2a8a1d02ef0>"
      ]
     },
     "execution_count": 41,
     "metadata": {},
     "output_type": "execute_result"
    },
    {
     "data": {
      "image/png": "[encoded data removed]",
      "text/plain": [
       "<Figure size 432x288 with 1 Axes>"
      ]
     },
     "metadata": {
      "needs_background": "light"
     },
     "output_type": "display_data"
    }
   ],
   "source": [
    "import pandas as pd\n",
    "import numpy as np\n",
    "import matplotlib.pyplot as plt\n",
    "\n",
    "# Set up some basic physical values we'll need\n",
    "R0 = 8.5 #kpc\n",
    "\n",
    "V0 = 220 #km/s\n",
    "\n",
    "# Read the data file in - here it's called 'vobs.csv'\n",
    "vals_df = pd.read_csv('vobs.csv')\n",
    "#vals_df.head()\n",
    "\n",
    "# Do the calculatons and add appropriate columns\n",
    "vals_df['R'] = R0*np.sin(vals_df['longitude']*np.pi/180)\n",
    "vals_df['V'] = vals_df['v_obs_max'] + V0*np.sin(vals_df['longitude']*np.pi/180)\n",
    "vals_df['V_err'] = vals_df['v_error']\n",
    "#vals_df\n",
    "\n",
    "# Plot it\n",
    "\n",
    "#matplotlib\n",
    "plt.errorbar(vals_df['R'],vals_df['V'], yerr=vals_df['v_error'], fmt='.')\n",
    "plt.title(\"Galactic rotation curve\")\n",
    "plt.xlabel('Radius (kpc)')\n",
    "plt.ylabel('Speed (km/s)')\n",
    "#plt.show()\n",
    "\n",
    "# Bokeh will be something like:\n",
    "#p = figure(title = \"Galactic rotation curve\", \n",
    "#          x_axis_label='Radius (kpc)', \n",
    "#          y_axis_label='Velocity (km/s)')\n",
    "#p.circle(vals_df['R'],vals_df['V'])\n",
    "#\n",
    "# Add some horizonal semi-transparent grid lines\n",
    "#p.ygrid.grid_line_color = 'grey'\n",
    "#p.ygrid.grid_line_alpha = 0.5\n",
    "#\n",
    "# And the error bars:\n",
    "#from bokeh.models import Whisker, ColumnDataSource\n",
    "#\n",
    "#src = ColumnDataSource(data=dict(\n",
    "#    y=vals_df['R'],\n",
    "#    lower = vals_df['V']-vals_df['V_err'],\n",
    "#    upper = vals_df['V']+vals_df['V_err']))\n",
    "#\n",
    "#w = Whisker(base='y', lower='lower', upper='upper', line_color='black', dimension='height', source=src)\n",
    "#\n",
    "#p.add_layout(w)\n",
    "#\n",
    "#show(p)\n",
    "\n",
    "\n",
    "# THIS NEXT BIT IS HIGHLY OPTIONAL\n",
    "# - and for fun only as there is no realy physical reality behind the model curve, \n",
    "# You could 'fit' a curve to the data to get an smooth rotation curve\n",
    "\n",
    "from scipy.optimize import curve_fit\n",
    "\n",
    "# Here'e a simple mathematical curve that might fit\n",
    "def gal_curve(r,C0,C1,C2):\n",
    "    return C0-C1*np.exp(-C2*r)\n",
    "\n",
    "R = vals_df['R'].values\n",
    "V = vals_df['V'].values\n",
    "R2 = np.linspace(0,8.5, 50)\n",
    "\n",
    "# 'Guess' some initial parameters for the constants\n",
    "c0 = [250,200,0.15]\n",
    "\n",
    "# and fit the curve \n",
    "c,pcov = curve_fit(gal_curve,R,V,c0)\n",
    "\n",
    "print('Optimised parameters are:', *c)\n",
    "\n",
    "# Plot it \n",
    "plt.scatter(R2,gal_curve(R2,*c), color='red', marker='.')\n",
    "plt.show()"
   ]
  },
  {
   "cell_type": "markdown",
   "metadata": {},
   "source": [
    "## Activity 5.8 Mapping the spiral arms\n",
    "\n",
    "This is very similar to 5.3 in that the student needs to produce a comma delimited file from Activities 4.3 and 5.1 (augmented with other students data as appropritee). This contains information about cloud velocities and longitude.\n",
    "\n",
    "This data is then used to compute cloud positions - longitude and distance.\n",
    "\n",
    "These can then be plotted. Probably easiest to use matplotlib with a 'polar' plot for this. The matplotlib notebook does show how to do these kinds of plots.\n",
    "\n"
   ]
  },
  {
   "cell_type": "code",
   "execution_count": 45,
   "metadata": {},
   "outputs": [
    {
     "data": {
      "text/plain": [
       "<matplotlib.collections.PathCollection at 0x2a8a1daa940>"
      ]
     },
     "execution_count": 45,
     "metadata": {},
     "output_type": "execute_result"
    },
    {
     "data": {
      "text/plain": [
       "<matplotlib.collections.PathCollection at 0x2a8a1db9da0>"
      ]
     },
     "execution_count": 45,
     "metadata": {},
     "output_type": "execute_result"
    },
    {
     "data": {
      "text/plain": [
       "[<matplotlib.projections.polar.RadialTick at 0x2a8a1daae10>,\n",
       " <matplotlib.projections.polar.RadialTick at 0x2a8a1db9ef0>,\n",
       " <matplotlib.projections.polar.RadialTick at 0x2a8a1daae48>,\n",
       " <matplotlib.projections.polar.RadialTick at 0x2a8a1dc91d0>]"
      ]
     },
     "execution_count": 45,
     "metadata": {},
     "output_type": "execute_result"
    },
    {
     "data": {
      "text/plain": [
       "Text(3.141592653589793, 8.6, 'Sun')"
      ]
     },
     "execution_count": 45,
     "metadata": {},
     "output_type": "execute_result"
    },
    {
     "data": {
      "text/plain": [
       "Text(0, 0.1, 'C')"
      ]
     },
     "execution_count": 45,
     "metadata": {},
     "output_type": "execute_result"
    },
    {
     "data": {
      "text/plain": [
       "Text(0.5, 1.05, 'Galaxy plot showing H cloud positions')"
      ]
     },
     "execution_count": 45,
     "metadata": {},
     "output_type": "execute_result"
    },
    {
     "data": {
      "image/png": "[encoded data removed]",
      "text/plain": [
       "<Figure size 720x720 with 1 Axes>"
      ]
     },
     "metadata": {
      "needs_background": "light"
     },
     "output_type": "display_data"
    }
   ],
   "source": [
    "import matplotlib.pyplot as plt\n",
    "import pandas as pd\n",
    "import numpy as np\n",
    "\n",
    "R0 = 8.5\n",
    "V0 = 220# Use your value here \n",
    "V = 257 # Use your value here \n",
    "\n",
    "KPC_M = 3.08567758e+19 # kiloparsec to metre conversion factor\n",
    "\n",
    "# Read in the data\n",
    "clouds_df = pd.read_csv('cloud_v.csv')\n",
    "#clouds_df.head()\n",
    "\n",
    "# Do the calculations\n",
    "# Convert to SI\n",
    "R0 = R0*KPC_M\n",
    "V0 = V0*1000\n",
    "V=V*1000\n",
    "\n",
    "clouds_df['R'] = V*R0/(V0 + clouds_df['vobs']*1000/np.sin(np.deg2rad(clouds_df['longitude'])))/KPC_M\n",
    "#clouds_df\n",
    "\n",
    "# Plot it\n",
    "# This version is fairly complex to get some control but a simpler version is given later\n",
    "\n",
    "# Need angles in radians\n",
    "cloud_thetas = clouds_df['longitude']*3.142/180\n",
    "cloud_r = clouds_df['R']\n",
    "\n",
    "fig=plt.figure(figsize=(10,10))\n",
    "ax = plt.subplot(111, projection='polar')\n",
    "ax.scatter(cloud_thetas, cloud_r)\n",
    "ax.scatter(np.deg2rad(180),8.5, marker = 'o', color='r')\n",
    "ax.set_rmax(30)\n",
    "ax.set_rticks([10, 15, 20, 30])  # less radial ticks\n",
    "ax.set_rlabel_position(-22.5)  # get radial labels away from plotted line\n",
    "ax.grid(True)\n",
    "ax.annotate('Sun', xy=(np.deg2rad(180), 8.6))\n",
    "ax.annotate('C', xy=(0,0.1))\n",
    "ax.set_theta_zero_location('S')\n",
    "ax.set_title(\"Galaxy plot showing H cloud positions\", va='bottom')\n",
    "plt.show()\n",
    "\n",
    "# A simpler version\n",
    "#plt.rcParams['figure.figsize']=[12,8]\n",
    "#plt.subplot(111, projection='polar')\n",
    "#plt.scatter(cloud_thetas, cloud_r)\n",
    "#plt.scatter(np.deg2rad(180),8.5, marker = 'o', color='r')\n",
    "#plt.ylim(0,40)\n",
    "#plt.yticks([10, 15, 20, 30, 40])  # less radial ticks\n",
    "#plt.annotate('Sun', xy=(np.deg2rad(180), 8.6))\n",
    "#plt.annotate('C', xy=(0,0.1))\n",
    "#plt.title(\"Galaxy plot showing H cloud positions\", va='bottom')\n",
    "#plt.show()\n"
   ]
  },
  {
   "cell_type": "code",
   "execution_count": null,
   "metadata": {},
   "outputs": [],
   "source": []
  }
 ],
 "metadata": {
  "kernelspec": {
   "display_name": "Python 3",
   "language": "python",
   "name": "python3"
  },
  "language_info": {
   "codemirror_mode": {
    "name": "ipython",
    "version": 3
   },
   "file_extension": ".py",
   "mimetype": "text/x-python",
   "name": "python",
   "nbconvert_exporter": "python",
   "pygments_lexer": "ipython3",
   "version": "3.7.3"
  }
 },
 "nbformat": 4,
 "nbformat_minor": 2
}
