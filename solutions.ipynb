{
 "cells": [
  {
   "cell_type": "markdown",
   "metadata": {},
   "source": [
    "# Simple specimen solutions to Activities\n",
    "\n",
    "This notebook provides a set of possible, simple solutions to SXPS288 Python Activities.\n",
    "\n",
    "These are not the most sophisticated solutions possible (there is pretty much no error checking) nor are they the only ones possible. They just provide a guide and are here to assist in supporting students who may have trouble in completing them.\n",
    "\n",
    "They should not be provided 'as is' to students, although it may be suitable to give out the odd snippet."
   ]
  },
  {
   "cell_type": "markdown",
   "metadata": {},
   "source": [
    "# ARROW - Week 1- 7"
   ]
  },
  {
   "cell_type": "markdown",
   "metadata": {},
   "source": [
    "\n",
    "## Activities 1.3, 1.4 and 2.2\n",
    "\n",
    "Solutions are provided in the notebook **\"Early ARROW Python exercises\"**"
   ]
  },
  {
   "cell_type": "markdown",
   "metadata": {},
   "source": [
    "## Activity 2.4 - Target selection\n",
    "\n",
    "This is an optional, alternative activity, and most of the code is already available in the 'astropy' notebook."
   ]
  },
  {
   "cell_type": "code",
   "execution_count": 5,
   "metadata": {},
   "outputs": [
    {
     "name": "stdout",
     "output_type": "stream",
     "text": [
      "These are the computed Alt/Az values (all in degrees)\n",
      "A '+' in the 'OK' column indicates a target is visible \n",
      "\n",
      "\t l      Alt     Az   OK?\n",
      "\t=========================\n",
      "\t  20   -39.1    51.3   -\n",
      "\t  30   -33.2    41.3   -\n",
      "\t  40   -26.6    32.6   -\n",
      "\t  50   -19.6    24.9   -\n",
      "\t  60   -12.2    17.8   -\n",
      "\t  70    -4.7    11.2   -\n",
      "\t  80     2.9     4.7   -\n",
      "\t  90    10.5   358.1   -\n",
      "\t 100    17.9   351.1   -\n",
      "\t 110    25.0   343.6   -\n",
      "\t 120    31.8   335.2   +\n",
      "\t 130    37.8   325.5   +\n",
      "\t 140    43.0   314.2   +\n",
      "\t 150    46.9   301.2   +\n",
      "\t 160    49.1   286.6   +\n",
      "\t 170    49.3   271.3   +\n",
      "\t 180    47.5   256.4   +\n",
      "\t 190    44.0   243.0   +\n",
      "\t 200    39.1   231.3   +\n",
      "\t 210    33.2   221.3   +\n",
      "\t 220    26.6   212.6   +\n",
      "\t 230    19.6   204.9   -\n",
      "\t 240    12.2   197.8   -\n"
     ]
    }
   ],
   "source": [
    "from astropy.coordinates import SkyCoord, EarthLocation, AltAz\n",
    "from astropy.time import Time\n",
    "from astropy import units as u\n",
    "\n",
    "#obs_date = input('Enter observing date in format yyyy-mm-dd ')\n",
    "#obs_time = input('Enter observing start time (UTC) in format hh:mm:ss ')\n",
    "\n",
    "# Here, you check for a correct format using regex to isolate yyyy, mm, dd, hh, mm, ss\n",
    "\n",
    "# For debuging purposes put in some fixed values\n",
    "obs_date = '2019-12-15'\n",
    "obs_time = '03:30:00'\n",
    "\n",
    "#ARROW location:\n",
    "ARROW = EarthLocation(lat=52.024444*u.deg, \\\n",
    "                   lon=-0.706388*u.deg, \\\n",
    "                   height=114*u.m)\n",
    "# Set up date/time in correct format\n",
    "obs_str=obs_date+'T'+obs_time\n",
    "obs = Time(obs_str, format='isot', scale='utc')\n",
    "\n",
    "# Print output 'table' intro and headings\n",
    "# NOTE '\\t' is a TAB character, '\\n' is a NEWLINE character\n",
    "print('These are the computed Alt/Az values (all in degrees)')\n",
    "print('A \\'+\\' in the \\'OK\\' column indicates a target is visible \\n')\n",
    "print ('\\t l      Alt     Az   OK?')\n",
    "print ('\\t=========================')\n",
    "\n",
    "# We're on the Galactic plane so ...\n",
    "b=0\n",
    "\n",
    "# Loop through a selection of Galactic longitudes\n",
    "for l in range(20, 250, 10):\n",
    "    # Get coordiantes\n",
    "    target = SkyCoord(l=l*u.deg, b=b*u.deg, frame='galactic')\n",
    "    # Do conversions\n",
    "    ARROW_frame=AltAz(obstime=obs, location=ARROW)\n",
    "    ARROW_altaz=target.transform_to(ARROW_frame)\n",
    "    \n",
    "    ARROW_alt = ARROW_altaz.alt.deg\n",
    "    ARROW_az = ARROW_altaz.az.deg\n",
    "    # Could do some checking\n",
    "    ok=''\n",
    "    if ARROW_alt>20 and ARROW_alt<80 and ARROW_az>20 and ARROW_az<340:\n",
    "        ok='+'\n",
    "    else:\n",
    "        ok='-'\n",
    "    \n",
    "    print(f'\\t {l:3d}   {ARROW_alt:5.1f}   {ARROW_az:5.1f}   {ok}')"
   ]
  },
  {
   "cell_type": "code",
   "execution_count": null,
   "metadata": {},
   "outputs": [],
   "source": []
  }
 ],
 "metadata": {
  "kernelspec": {
   "display_name": "Python 3",
   "language": "python",
   "name": "python3"
  },
  "language_info": {
   "codemirror_mode": {
    "name": "ipython",
    "version": 3
   },
   "file_extension": ".py",
   "mimetype": "text/x-python",
   "name": "python",
   "nbconvert_exporter": "python",
   "pygments_lexer": "ipython3",
   "version": "3.7.3"
  }
 },
 "nbformat": 4,
 "nbformat_minor": 2
}
